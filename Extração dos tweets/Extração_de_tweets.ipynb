{
 "cells": [
  {
   "cell_type": "code",
   "execution_count": 3,
   "metadata": {},
   "outputs": [],
   "source": [
    "import tweepy\n",
    "from unidecode import unidecode\n",
    "import pandas as pd"
   ]
  },
  {
   "cell_type": "code",
   "execution_count": 4,
   "metadata": {},
   "outputs": [],
   "source": [
    "#credenciais da API do twitter\n",
    "consumerKey = 'sYt53JHVZ5aKYrnKoy3hmL3ad'\n",
    "consumerSecret = 'qMoCg6G7VneJjqNzkX3NMxblJD2aGZG3ylJnKINk0m2VvrXEgp'\n",
    "accessToken = '1240872613876031488-StPoIim7kXuda00we1tDlv8damYEzU'\n",
    "accessTokenSecret = 'axYYObMYwwkxbVj151we4GMgbcs0pk0jE3iOiHgGHBb9n'"
   ]
  },
  {
   "cell_type": "code",
   "execution_count": 5,
   "metadata": {},
   "outputs": [],
   "source": [
    "#criação de um objeto de autentificação\n",
    "authenticate = tweepy.OAuthHandler(consumerKey, consumerSecret)\n",
    "\n",
    "#definindo o acesso ao token e ao token secret\n",
    "authenticate.set_access_token(accessToken, accessTokenSecret)\n",
    "\n",
    "#Criando a objeto API para passar as informações de autenticação\n",
    "api = tweepy.API(authenticate, wait_on_rate_limit= True)"
   ]
  },
  {
   "cell_type": "code",
   "execution_count": 14,
   "metadata": {},
   "outputs": [],
   "source": [
    "### Palavras que serão usadas como base da extração dos tweets\n",
    "palavras_chave = ['Marília Arraes']"
   ]
  },
  {
   "cell_type": "code",
   "execution_count": 15,
   "metadata": {},
   "outputs": [],
   "source": [
    "#Searchin' Twitter\n",
    "tweets = []\n",
    "\n",
    "for palavra in palavras_chave:\n",
    "    for tweet in tweepy.Cursor(api.search,\n",
    "                               q=palavra,\n",
    "                               tweet_mode='extended',\n",
    "                               since = '2020-11-15',\n",
    "                               until = '2020-11-24', \n",
    "                               lang=\"pt\").items(500):\n",
    "        if 'retweeted_status' in dir(tweet):\n",
    "            tweets.append({ 'palavra_chave': palavra, 'tweet': unidecode(tweet.retweeted_status.full_text) })\n",
    "            #print(unidecode(tweet.retweeted_status.full_text))\n",
    "        else:\n",
    "            tweets.append({ 'palavra_chave': palavra, 'tweet': unidecode(tweet.full_text) })\n",
    "            #print(unidecode(tweet.full_text))\n",
    "        "
   ]
  },
  {
   "cell_type": "code",
   "execution_count": 16,
   "metadata": {},
   "outputs": [],
   "source": [
    "df = pd.DataFrame(tweets)"
   ]
  },
  {
   "cell_type": "code",
   "execution_count": 17,
   "metadata": {},
   "outputs": [
    {
     "data": {
      "text/html": [
       "<div>\n",
       "<style scoped>\n",
       "    .dataframe tbody tr th:only-of-type {\n",
       "        vertical-align: middle;\n",
       "    }\n",
       "\n",
       "    .dataframe tbody tr th {\n",
       "        vertical-align: top;\n",
       "    }\n",
       "\n",
       "    .dataframe thead th {\n",
       "        text-align: right;\n",
       "    }\n",
       "</style>\n",
       "<table border=\"1\" class=\"dataframe\">\n",
       "  <thead>\n",
       "    <tr style=\"text-align: right;\">\n",
       "      <th></th>\n",
       "      <th>palavra_chave</th>\n",
       "      <th>tweet</th>\n",
       "    </tr>\n",
       "  </thead>\n",
       "  <tbody>\n",
       "    <tr>\n",
       "      <th>0</th>\n",
       "      <td>Marília Arraes</td>\n",
       "      <td>O PT apoia frentes em varios estados no segund...</td>\n",
       "    </tr>\n",
       "    <tr>\n",
       "      <th>1</th>\n",
       "      <td>Marília Arraes</td>\n",
       "      <td>O PT apoia frentes em varios estados no segund...</td>\n",
       "    </tr>\n",
       "    <tr>\n",
       "      <th>2</th>\n",
       "      <td>Marília Arraes</td>\n",
       "      <td>Vamos Marilia arraes  estamos juntos de voce e...</td>\n",
       "    </tr>\n",
       "    <tr>\n",
       "      <th>3</th>\n",
       "      <td>Marília Arraes</td>\n",
       "      <td>Em audio, deputado diz que Marilia Arraes suge...</td>\n",
       "    </tr>\n",
       "    <tr>\n",
       "      <th>4</th>\n",
       "      <td>Marília Arraes</td>\n",
       "      <td>Os companheiros e companheiras do PCdoB ficara...</td>\n",
       "    </tr>\n",
       "    <tr>\n",
       "      <th>...</th>\n",
       "      <td>...</td>\n",
       "      <td>...</td>\n",
       "    </tr>\n",
       "    <tr>\n",
       "      <th>495</th>\n",
       "      <td>Marília Arraes</td>\n",
       "      <td>O PT apoia frentes em varios estados no segund...</td>\n",
       "    </tr>\n",
       "    <tr>\n",
       "      <th>496</th>\n",
       "      <td>Marília Arraes</td>\n",
       "      <td>Justica Eleitoral determina que campanha de Jo...</td>\n",
       "    </tr>\n",
       "    <tr>\n",
       "      <th>497</th>\n",
       "      <td>Marília Arraes</td>\n",
       "      <td>Camilo ignora Ciro e apoia Marilia Arraes no R...</td>\n",
       "    </tr>\n",
       "    <tr>\n",
       "      <th>498</th>\n",
       "      <td>Marília Arraes</td>\n",
       "      <td>Ciro faz campanha pra Joao Campos contra Maril...</td>\n",
       "    </tr>\n",
       "    <tr>\n",
       "      <th>499</th>\n",
       "      <td>Marília Arraes</td>\n",
       "      <td>Vamos eleger Marilia Arraes prefeita. Nao pude...</td>\n",
       "    </tr>\n",
       "  </tbody>\n",
       "</table>\n",
       "<p>500 rows × 2 columns</p>\n",
       "</div>"
      ],
      "text/plain": [
       "      palavra_chave                                              tweet\n",
       "0    Marília Arraes  O PT apoia frentes em varios estados no segund...\n",
       "1    Marília Arraes  O PT apoia frentes em varios estados no segund...\n",
       "2    Marília Arraes  Vamos Marilia arraes  estamos juntos de voce e...\n",
       "3    Marília Arraes  Em audio, deputado diz que Marilia Arraes suge...\n",
       "4    Marília Arraes  Os companheiros e companheiras do PCdoB ficara...\n",
       "..              ...                                                ...\n",
       "495  Marília Arraes  O PT apoia frentes em varios estados no segund...\n",
       "496  Marília Arraes  Justica Eleitoral determina que campanha de Jo...\n",
       "497  Marília Arraes  Camilo ignora Ciro e apoia Marilia Arraes no R...\n",
       "498  Marília Arraes  Ciro faz campanha pra Joao Campos contra Maril...\n",
       "499  Marília Arraes  Vamos eleger Marilia Arraes prefeita. Nao pude...\n",
       "\n",
       "[500 rows x 2 columns]"
      ]
     },
     "execution_count": 17,
     "metadata": {},
     "output_type": "execute_result"
    }
   ],
   "source": [
    "df"
   ]
  },
  {
   "cell_type": "code",
   "execution_count": 18,
   "metadata": {},
   "outputs": [],
   "source": [
    "df.to_csv('./tweets_originais_segundo_turno_MaríliArraes')"
   ]
  },
  {
   "cell_type": "code",
   "execution_count": null,
   "metadata": {},
   "outputs": [],
   "source": []
  }
 ],
 "metadata": {
  "kernelspec": {
   "display_name": "Python 3",
   "language": "python",
   "name": "python3"
  },
  "language_info": {
   "codemirror_mode": {
    "name": "ipython",
    "version": 3
   },
   "file_extension": ".py",
   "mimetype": "text/x-python",
   "name": "python",
   "nbconvert_exporter": "python",
   "pygments_lexer": "ipython3",
   "version": "3.8.6"
  }
 },
 "nbformat": 4,
 "nbformat_minor": 4
}
