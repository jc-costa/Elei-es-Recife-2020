{
 "cells": [
  {
   "cell_type": "code",
   "execution_count": 1,
   "metadata": {},
   "outputs": [],
   "source": [
    "import pandas as pd"
   ]
  },
  {
   "cell_type": "code",
   "execution_count": 2,
   "metadata": {},
   "outputs": [],
   "source": [
    "df1 = pd.read_csv('./tweets_originais_segundo_turno_MaríliArraes')\n",
    "df2 = pd.read_csv('./tweets_originais_segundo_turno_JoãoCampos')"
   ]
  },
  {
   "cell_type": "code",
   "execution_count": 3,
   "metadata": {},
   "outputs": [],
   "source": [
    "df1.drop(axis=1, columns=['Unnamed: 0'], inplace = True)\n",
    "df2.drop(axis=1, columns=['Unnamed: 0'], inplace = True)"
   ]
  },
  {
   "cell_type": "code",
   "execution_count": 7,
   "metadata": {},
   "outputs": [],
   "source": [
    "df_segundo_turno = pd.concat([df1,df2], ignore_index=True)"
   ]
  },
  {
   "cell_type": "code",
   "execution_count": 8,
   "metadata": {},
   "outputs": [
    {
     "data": {
      "text/html": [
       "<div>\n",
       "<style scoped>\n",
       "    .dataframe tbody tr th:only-of-type {\n",
       "        vertical-align: middle;\n",
       "    }\n",
       "\n",
       "    .dataframe tbody tr th {\n",
       "        vertical-align: top;\n",
       "    }\n",
       "\n",
       "    .dataframe thead th {\n",
       "        text-align: right;\n",
       "    }\n",
       "</style>\n",
       "<table border=\"1\" class=\"dataframe\">\n",
       "  <thead>\n",
       "    <tr style=\"text-align: right;\">\n",
       "      <th></th>\n",
       "      <th>palavra_chave</th>\n",
       "      <th>tweet</th>\n",
       "    </tr>\n",
       "  </thead>\n",
       "  <tbody>\n",
       "    <tr>\n",
       "      <th>0</th>\n",
       "      <td>Marília Arraes</td>\n",
       "      <td>O PT apoia frentes em varios estados no segund...</td>\n",
       "    </tr>\n",
       "    <tr>\n",
       "      <th>1</th>\n",
       "      <td>Marília Arraes</td>\n",
       "      <td>O PT apoia frentes em varios estados no segund...</td>\n",
       "    </tr>\n",
       "    <tr>\n",
       "      <th>2</th>\n",
       "      <td>Marília Arraes</td>\n",
       "      <td>Vamos Marilia arraes  estamos juntos de voce e...</td>\n",
       "    </tr>\n",
       "    <tr>\n",
       "      <th>3</th>\n",
       "      <td>Marília Arraes</td>\n",
       "      <td>Em audio, deputado diz que Marilia Arraes suge...</td>\n",
       "    </tr>\n",
       "    <tr>\n",
       "      <th>4</th>\n",
       "      <td>Marília Arraes</td>\n",
       "      <td>Os companheiros e companheiras do PCdoB ficara...</td>\n",
       "    </tr>\n",
       "    <tr>\n",
       "      <th>...</th>\n",
       "      <td>...</td>\n",
       "      <td>...</td>\n",
       "    </tr>\n",
       "    <tr>\n",
       "      <th>995</th>\n",
       "      <td>João Campos</td>\n",
       "      <td>interessante joao campos e o PSB investindo pe...</td>\n",
       "    </tr>\n",
       "    <tr>\n",
       "      <th>996</th>\n",
       "      <td>João Campos</td>\n",
       "      <td>O TSE nao vai fazer NADA contra Crivella e Joa...</td>\n",
       "    </tr>\n",
       "    <tr>\n",
       "      <th>997</th>\n",
       "      <td>João Campos</td>\n",
       "      <td>O TSE nao vai fazer NADA contra Crivella e Joa...</td>\n",
       "    </tr>\n",
       "    <tr>\n",
       "      <th>998</th>\n",
       "      <td>João Campos</td>\n",
       "      <td>A curta carreira de Joao Campos. Comecou com i...</td>\n",
       "    </tr>\n",
       "    <tr>\n",
       "      <th>999</th>\n",
       "      <td>João Campos</td>\n",
       "      <td>@lucas_lisboa @DCM_online Inclusive outra cois...</td>\n",
       "    </tr>\n",
       "  </tbody>\n",
       "</table>\n",
       "<p>1000 rows × 2 columns</p>\n",
       "</div>"
      ],
      "text/plain": [
       "      palavra_chave                                              tweet\n",
       "0    Marília Arraes  O PT apoia frentes em varios estados no segund...\n",
       "1    Marília Arraes  O PT apoia frentes em varios estados no segund...\n",
       "2    Marília Arraes  Vamos Marilia arraes  estamos juntos de voce e...\n",
       "3    Marília Arraes  Em audio, deputado diz que Marilia Arraes suge...\n",
       "4    Marília Arraes  Os companheiros e companheiras do PCdoB ficara...\n",
       "..              ...                                                ...\n",
       "995     João Campos  interessante joao campos e o PSB investindo pe...\n",
       "996     João Campos  O TSE nao vai fazer NADA contra Crivella e Joa...\n",
       "997     João Campos  O TSE nao vai fazer NADA contra Crivella e Joa...\n",
       "998     João Campos  A curta carreira de Joao Campos. Comecou com i...\n",
       "999     João Campos  @lucas_lisboa @DCM_online Inclusive outra cois...\n",
       "\n",
       "[1000 rows x 2 columns]"
      ]
     },
     "execution_count": 8,
     "metadata": {},
     "output_type": "execute_result"
    }
   ],
   "source": [
    "df_segundo_turno"
   ]
  },
  {
   "cell_type": "code",
   "execution_count": 9,
   "metadata": {},
   "outputs": [],
   "source": [
    "df_primeiro_turno.to_csv('df_segundo_turno_original')"
   ]
  },
  {
   "cell_type": "code",
   "execution_count": 10,
   "metadata": {},
   "outputs": [
    {
     "data": {
      "text/plain": [
       "palavra_chave                                          João Campos\n",
       "tweet            A curta carreira de Joao Campos. Comecou com i...\n",
       "Name: 500, dtype: object"
      ]
     },
     "execution_count": 10,
     "metadata": {},
     "output_type": "execute_result"
    }
   ],
   "source": [
    "df_primeiro_turno.iloc[500]"
   ]
  },
  {
   "cell_type": "code",
   "execution_count": null,
   "metadata": {},
   "outputs": [],
   "source": []
  }
 ],
 "metadata": {
  "kernelspec": {
   "display_name": "Python 3",
   "language": "python",
   "name": "python3"
  },
  "language_info": {
   "codemirror_mode": {
    "name": "ipython",
    "version": 3
   },
   "file_extension": ".py",
   "mimetype": "text/x-python",
   "name": "python",
   "nbconvert_exporter": "python",
   "pygments_lexer": "ipython3",
   "version": "3.8.6"
  }
 },
 "nbformat": 4,
 "nbformat_minor": 4
}
