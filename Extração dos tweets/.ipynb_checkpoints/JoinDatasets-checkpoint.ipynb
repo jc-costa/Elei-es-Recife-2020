{
 "cells": [
  {
   "cell_type": "code",
   "execution_count": 9,
   "metadata": {},
   "outputs": [],
   "source": [
    "import pandas as pd"
   ]
  },
  {
   "cell_type": "code",
   "execution_count": 10,
   "metadata": {},
   "outputs": [],
   "source": [
    "df1 = pd.read_csv('./tweets_originais_Mendonça')\n",
    "df2 = pd.read_csv('./tweets_originais_Joao_Campos')\n",
    "df3 = pd.read_csv('./tweets_originais_Delegada_Patricia')\n",
    "df4 = pd.read_csv('./tweets_marilia')"
   ]
  },
  {
   "cell_type": "code",
   "execution_count": 15,
   "metadata": {},
   "outputs": [],
   "source": [
    "df1.drop(axis=1, columns=['Unnamed: 0'], inplace = True)\n",
    "df2.drop(axis=1, columns=['Unnamed: 0'], inplace = True)\n",
    "df3.drop(axis=1, columns=['Unnamed: 0'], inplace = True)\n",
    "df4.drop(axis=1, columns=['Unnamed: 0'], inplace = True)"
   ]
  },
  {
   "cell_type": "code",
   "execution_count": 16,
   "metadata": {},
   "outputs": [],
   "source": [
    "df_primeiro_turno = pd.concat([df1,df2,df3,df4], ignore_index=True)"
   ]
  },
  {
   "cell_type": "code",
   "execution_count": 17,
   "metadata": {},
   "outputs": [
    {
     "data": {
      "text/html": [
       "<div>\n",
       "<style scoped>\n",
       "    .dataframe tbody tr th:only-of-type {\n",
       "        vertical-align: middle;\n",
       "    }\n",
       "\n",
       "    .dataframe tbody tr th {\n",
       "        vertical-align: top;\n",
       "    }\n",
       "\n",
       "    .dataframe thead th {\n",
       "        text-align: right;\n",
       "    }\n",
       "</style>\n",
       "<table border=\"1\" class=\"dataframe\">\n",
       "  <thead>\n",
       "    <tr style=\"text-align: right;\">\n",
       "      <th></th>\n",
       "      <th>palavra_chave</th>\n",
       "      <th>tweet</th>\n",
       "    </tr>\n",
       "  </thead>\n",
       "  <tbody>\n",
       "    <tr>\n",
       "      <th>0</th>\n",
       "      <td>Mendonça Filho</td>\n",
       "      <td>Pesquisa Datafolha no Recife, votos validos: J...</td>\n",
       "    </tr>\n",
       "    <tr>\n",
       "      <th>1</th>\n",
       "      <td>Mendonça Filho</td>\n",
       "      <td>IBOPE - RECIFE\\n\\nVOTOS VALIDOS\\n\\nJoao Campos...</td>\n",
       "    </tr>\n",
       "    <tr>\n",
       "      <th>2</th>\n",
       "      <td>Mendonça Filho</td>\n",
       "      <td>DATAFOLHA - RECIFE\\n\\nJoao Campos (PSB) - 29% ...</td>\n",
       "    </tr>\n",
       "    <tr>\n",
       "      <th>3</th>\n",
       "      <td>Mendonça Filho</td>\n",
       "      <td>REJEICAO\\n\\nDelegada Patricia (Podemos): 42%\\n...</td>\n",
       "    </tr>\n",
       "    <tr>\n",
       "      <th>4</th>\n",
       "      <td>Mendonça Filho</td>\n",
       "      <td>COMO QUE A PESSOA SAI DE CASA PRA VOTAR EM MEN...</td>\n",
       "    </tr>\n",
       "    <tr>\n",
       "      <th>...</th>\n",
       "      <td>...</td>\n",
       "      <td>...</td>\n",
       "    </tr>\n",
       "    <tr>\n",
       "      <th>1995</th>\n",
       "      <td>Marília Arraes</td>\n",
       "      <td>Manuela - POA (Pc do B)\\nMargarida - Juiz de F...</td>\n",
       "    </tr>\n",
       "    <tr>\n",
       "      <th>1996</th>\n",
       "      <td>Marília Arraes</td>\n",
       "      <td>Recife,nao vote em Marilia Arraes e Joao Campo...</td>\n",
       "    </tr>\n",
       "    <tr>\n",
       "      <th>1997</th>\n",
       "      <td>Marília Arraes</td>\n",
       "      <td>Olha que coisa linda, nossa futura prefeita (M...</td>\n",
       "    </tr>\n",
       "    <tr>\n",
       "      <th>1998</th>\n",
       "      <td>Marília Arraes</td>\n",
       "      <td>Nova pesquisa Ipespe divulgada agora para a pr...</td>\n",
       "    </tr>\n",
       "    <tr>\n",
       "      <th>1999</th>\n",
       "      <td>Marília Arraes</td>\n",
       "      <td>Nova pesquisa Ipespe divulgada agora para a pr...</td>\n",
       "    </tr>\n",
       "  </tbody>\n",
       "</table>\n",
       "<p>2000 rows × 2 columns</p>\n",
       "</div>"
      ],
      "text/plain": [
       "       palavra_chave                                              tweet\n",
       "0     Mendonça Filho  Pesquisa Datafolha no Recife, votos validos: J...\n",
       "1     Mendonça Filho  IBOPE - RECIFE\\n\\nVOTOS VALIDOS\\n\\nJoao Campos...\n",
       "2     Mendonça Filho  DATAFOLHA - RECIFE\\n\\nJoao Campos (PSB) - 29% ...\n",
       "3     Mendonça Filho  REJEICAO\\n\\nDelegada Patricia (Podemos): 42%\\n...\n",
       "4     Mendonça Filho  COMO QUE A PESSOA SAI DE CASA PRA VOTAR EM MEN...\n",
       "...              ...                                                ...\n",
       "1995  Marília Arraes  Manuela - POA (Pc do B)\\nMargarida - Juiz de F...\n",
       "1996  Marília Arraes  Recife,nao vote em Marilia Arraes e Joao Campo...\n",
       "1997  Marília Arraes  Olha que coisa linda, nossa futura prefeita (M...\n",
       "1998  Marília Arraes  Nova pesquisa Ipespe divulgada agora para a pr...\n",
       "1999  Marília Arraes  Nova pesquisa Ipespe divulgada agora para a pr...\n",
       "\n",
       "[2000 rows x 2 columns]"
      ]
     },
     "execution_count": 17,
     "metadata": {},
     "output_type": "execute_result"
    }
   ],
   "source": [
    "df_primeiro_turno"
   ]
  },
  {
   "cell_type": "code",
   "execution_count": 18,
   "metadata": {},
   "outputs": [],
   "source": [
    "df_primeiro_turno.to_csv('df_primeiro_turno_original')"
   ]
  },
  {
   "cell_type": "code",
   "execution_count": 19,
   "metadata": {},
   "outputs": [
    {
     "data": {
      "text/html": [
       "<div>\n",
       "<style scoped>\n",
       "    .dataframe tbody tr th:only-of-type {\n",
       "        vertical-align: middle;\n",
       "    }\n",
       "\n",
       "    .dataframe tbody tr th {\n",
       "        vertical-align: top;\n",
       "    }\n",
       "\n",
       "    .dataframe thead th {\n",
       "        text-align: right;\n",
       "    }\n",
       "</style>\n",
       "<table border=\"1\" class=\"dataframe\">\n",
       "  <thead>\n",
       "    <tr style=\"text-align: right;\">\n",
       "      <th></th>\n",
       "      <th>palavra_chave</th>\n",
       "      <th>tweet</th>\n",
       "    </tr>\n",
       "  </thead>\n",
       "  <tbody>\n",
       "    <tr>\n",
       "      <th>0</th>\n",
       "      <td>Mendonça Filho</td>\n",
       "      <td>Pesquisa Datafolha no Recife, votos validos: J...</td>\n",
       "    </tr>\n",
       "    <tr>\n",
       "      <th>1</th>\n",
       "      <td>Mendonça Filho</td>\n",
       "      <td>IBOPE - RECIFE\\n\\nVOTOS VALIDOS\\n\\nJoao Campos...</td>\n",
       "    </tr>\n",
       "    <tr>\n",
       "      <th>2</th>\n",
       "      <td>Mendonça Filho</td>\n",
       "      <td>DATAFOLHA - RECIFE\\n\\nJoao Campos (PSB) - 29% ...</td>\n",
       "    </tr>\n",
       "    <tr>\n",
       "      <th>3</th>\n",
       "      <td>Mendonça Filho</td>\n",
       "      <td>REJEICAO\\n\\nDelegada Patricia (Podemos): 42%\\n...</td>\n",
       "    </tr>\n",
       "    <tr>\n",
       "      <th>4</th>\n",
       "      <td>Mendonça Filho</td>\n",
       "      <td>COMO QUE A PESSOA SAI DE CASA PRA VOTAR EM MEN...</td>\n",
       "    </tr>\n",
       "    <tr>\n",
       "      <th>...</th>\n",
       "      <td>...</td>\n",
       "      <td>...</td>\n",
       "    </tr>\n",
       "    <tr>\n",
       "      <th>1995</th>\n",
       "      <td>Marília Arraes</td>\n",
       "      <td>Manuela - POA (Pc do B)\\nMargarida - Juiz de F...</td>\n",
       "    </tr>\n",
       "    <tr>\n",
       "      <th>1996</th>\n",
       "      <td>Marília Arraes</td>\n",
       "      <td>Recife,nao vote em Marilia Arraes e Joao Campo...</td>\n",
       "    </tr>\n",
       "    <tr>\n",
       "      <th>1997</th>\n",
       "      <td>Marília Arraes</td>\n",
       "      <td>Olha que coisa linda, nossa futura prefeita (M...</td>\n",
       "    </tr>\n",
       "    <tr>\n",
       "      <th>1998</th>\n",
       "      <td>Marília Arraes</td>\n",
       "      <td>Nova pesquisa Ipespe divulgada agora para a pr...</td>\n",
       "    </tr>\n",
       "    <tr>\n",
       "      <th>1999</th>\n",
       "      <td>Marília Arraes</td>\n",
       "      <td>Nova pesquisa Ipespe divulgada agora para a pr...</td>\n",
       "    </tr>\n",
       "  </tbody>\n",
       "</table>\n",
       "<p>2000 rows × 2 columns</p>\n",
       "</div>"
      ],
      "text/plain": [
       "       palavra_chave                                              tweet\n",
       "0     Mendonça Filho  Pesquisa Datafolha no Recife, votos validos: J...\n",
       "1     Mendonça Filho  IBOPE - RECIFE\\n\\nVOTOS VALIDOS\\n\\nJoao Campos...\n",
       "2     Mendonça Filho  DATAFOLHA - RECIFE\\n\\nJoao Campos (PSB) - 29% ...\n",
       "3     Mendonça Filho  REJEICAO\\n\\nDelegada Patricia (Podemos): 42%\\n...\n",
       "4     Mendonça Filho  COMO QUE A PESSOA SAI DE CASA PRA VOTAR EM MEN...\n",
       "...              ...                                                ...\n",
       "1995  Marília Arraes  Manuela - POA (Pc do B)\\nMargarida - Juiz de F...\n",
       "1996  Marília Arraes  Recife,nao vote em Marilia Arraes e Joao Campo...\n",
       "1997  Marília Arraes  Olha que coisa linda, nossa futura prefeita (M...\n",
       "1998  Marília Arraes  Nova pesquisa Ipespe divulgada agora para a pr...\n",
       "1999  Marília Arraes  Nova pesquisa Ipespe divulgada agora para a pr...\n",
       "\n",
       "[2000 rows x 2 columns]"
      ]
     },
     "execution_count": 19,
     "metadata": {},
     "output_type": "execute_result"
    }
   ],
   "source": [
    "df_primeiro_turno"
   ]
  },
  {
   "cell_type": "code",
   "execution_count": null,
   "metadata": {},
   "outputs": [],
   "source": []
  }
 ],
 "metadata": {
  "kernelspec": {
   "display_name": "Python 3",
   "language": "python",
   "name": "python3"
  },
  "language_info": {
   "codemirror_mode": {
    "name": "ipython",
    "version": 3
   },
   "file_extension": ".py",
   "mimetype": "text/x-python",
   "name": "python",
   "nbconvert_exporter": "python",
   "pygments_lexer": "ipython3",
   "version": "3.8.5"
  }
 },
 "nbformat": 4,
 "nbformat_minor": 4
}
