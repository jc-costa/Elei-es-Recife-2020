{
 "cells": [
  {
   "cell_type": "code",
   "execution_count": 1,
   "metadata": {},
   "outputs": [],
   "source": [
    "import tweepy\n",
    "from textblob import TextBlob\n",
    "from textblob.classifiers import NaiveBayesClassifier\n",
    "from googletrans import Translator \n",
    "from unidecode import unidecode\n",
    "from wordcloud import WordCloud\n",
    "import matplotlib.pyplot as plt \n",
    "from wordcloud import STOPWORDS\n",
    "import numpy as np \n",
    "import pandas as pd\n",
    "import time\n",
    "import os\n",
    "import re\n"
   ]
  },
  {
   "cell_type": "code",
   "execution_count": 7,
   "metadata": {},
   "outputs": [],
   "source": [
    "#credenciais da API do twitter\n",
    "consumerKey = 'sYt53JHVZ5aKYrnKoy3hmL3ad'\n",
    "consumerSecret = 'qMoCg6G7VneJjqNzkX3NMxblJD2aGZG3ylJnKINk0m2VvrXEgp'\n",
    "accessToken = '1240872613876031488-StPoIim7kXuda00we1tDlv8damYEzU'\n",
    "accessTokenSecret = 'axYYObMYwwkxbVj151we4GMgbcs0pk0jE3iOiHgGHBb9n'"
   ]
  },
  {
   "cell_type": "code",
   "execution_count": 8,
   "metadata": {},
   "outputs": [],
   "source": [
    "translator = Translator()"
   ]
  },
  {
   "cell_type": "code",
   "execution_count": 9,
   "metadata": {},
   "outputs": [],
   "source": [
    "#criação de um objeto de autentificação\n",
    "authenticate = tweepy.OAuthHandler(consumerKey, consumerSecret)\n",
    "\n",
    "#definindo o acesso ao token e ao token secret\n",
    "authenticate.set_access_token(accessToken, accessTokenSecret)\n",
    "\n",
    "#Criando a objeto API para passar as informações de autenticação\n",
    "api = tweepy.API(authenticate, wait_on_rate_limit= True)"
   ]
  },
  {
   "cell_type": "code",
   "execution_count": 10,
   "metadata": {},
   "outputs": [],
   "source": [
    "### Palavras que serão usadas como base da extração dos tweets\n",
    "palavras_chave = ['João Campos']"
   ]
  },
  {
   "cell_type": "code",
   "execution_count": 11,
   "metadata": {},
   "outputs": [],
   "source": [
    "# Contadores\n",
    "numPos = 0; numNeg = 0; total = 0; numNeutro = 0\n",
    "tweets_df = []"
   ]
  },
  {
   "cell_type": "code",
   "execution_count": 12,
   "metadata": {},
   "outputs": [],
   "source": [
    "#Searchin' Twitter\n",
    "tweets = []\n",
    "\n",
    "for palavra in palavras_chave:\n",
    "    for tweet in tweepy.Cursor(api.search,\n",
    "                               q=palavra,\n",
    "                               tweet_mode='extended',\n",
    "                               since = '2020-10-15',\n",
    "                               until = '2020-11-15', \n",
    "                               lang=\"pt\").items(500):\n",
    "        if 'retweeted_status' in dir(tweet):\n",
    "            tweets.append({ 'palavra_chave': palavra, 'tweet': unidecode(tweet.retweeted_status.full_text) })\n",
    "            #print(unidecode(tweet.retweeted_status.full_text))\n",
    "        else:\n",
    "            tweets.append({ 'palavra_chave': palavra, 'tweet': unidecode(tweet.full_text) })\n",
    "            #print(unidecode(tweet.full_text))\n",
    "        "
   ]
  },
  {
   "cell_type": "code",
   "execution_count": 14,
   "metadata": {},
   "outputs": [],
   "source": [
    "def cleanTxt(text):\n",
    " text = re.sub('@[A-Za-z0–9]+', '', text) #Removing @mentions\n",
    " text = re.sub('#', '', text) # Removing '#' hash tag\n",
    " text = re.sub('RT[\\s]+', '', text) # Removing RT\n",
    " text = re.sub(r\"http\\S+\", \"\", text) # Removing hyperlink \n",
    " text = re.sub('\\n', ' ', text)   \n",
    " return text"
   ]
  },
  {
   "cell_type": "code",
   "execution_count": 28,
   "metadata": {},
   "outputs": [],
   "source": [
    "tweets = pd.DataFrame(tweets)"
   ]
  },
  {
   "cell_type": "code",
   "execution_count": 30,
   "metadata": {},
   "outputs": [],
   "source": [
    "tweets['tweet'] = tweets['tweet'].apply(cleanTxt)"
   ]
  },
  {
   "cell_type": "code",
   "execution_count": 31,
   "metadata": {},
   "outputs": [],
   "source": [
    "tweets = tweets['tweet']"
   ]
  },
  {
   "cell_type": "code",
   "execution_count": 33,
   "metadata": {},
   "outputs": [],
   "source": [
    "tweets.to_csv('./tweets_limpos_Joao_Campos')"
   ]
  },
  {
   "cell_type": "markdown",
   "metadata": {},
   "source": [
    "----------------------------------------- Funções auxiliares -------------------------------------"
   ]
  },
  {
   "cell_type": "code",
   "execution_count": 15,
   "metadata": {},
   "outputs": [],
   "source": [
    "##### retorna um dataframe a partir de uma lista de palavras chaves\n",
    "#### Colunas palavra_chave e tweet\n",
    "def gerarDataFrame(palavras_chave):\n",
    "    df = []\n",
    "    for palavra in palavras_chave:\n",
    "        for tweet in tweepy.Cursor(api.search,\n",
    "                                   q=palavra, \n",
    "                                   since = '2020-08-01', \n",
    "                                   lang=\"pt\",\n",
    "                                   tweet_mode='extended'\n",
    "                                  ).items(50):\n",
    "            textPT = unidecode(tweet.full_text) #Texto do Tweet\n",
    "            df.append({ 'palavra_chave': palavra, 'tweet': unidecode(tweet.full_text) })\n",
    "    tweets_df = pd.DataFrame(df)\n",
    "    return tweets_df"
   ]
  },
  {
   "cell_type": "code",
   "execution_count": null,
   "metadata": {},
   "outputs": [],
   "source": []
  },
  {
   "cell_type": "code",
   "execution_count": null,
   "metadata": {},
   "outputs": [],
   "source": []
  },
  {
   "cell_type": "code",
   "execution_count": null,
   "metadata": {},
   "outputs": [],
   "source": []
  }
 ],
 "metadata": {
  "kernelspec": {
   "display_name": "Python 3",
   "language": "python",
   "name": "python3"
  },
  "language_info": {
   "codemirror_mode": {
    "name": "ipython",
    "version": 3
   },
   "file_extension": ".py",
   "mimetype": "text/x-python",
   "name": "python",
   "nbconvert_exporter": "python",
   "pygments_lexer": "ipython3",
   "version": "3.8.5"
  }
 },
 "nbformat": 4,
 "nbformat_minor": 4
}
