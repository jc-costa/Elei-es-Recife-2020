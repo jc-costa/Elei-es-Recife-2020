{
 "cells": [
  {
   "cell_type": "code",
   "execution_count": 1,
   "metadata": {},
   "outputs": [],
   "source": [
    "# Instala as dependências do dash\n",
    "#!pip3 install dash\n",
    "#!pip3 install dash-renderer\n",
    "#!pip3 install dash_html_components\n",
    "#!pip3 install dash_core_components"
   ]
  },
  {
   "cell_type": "code",
   "execution_count": 2,
   "metadata": {},
   "outputs": [],
   "source": [
    "import dash\n",
    "import dash_bootstrap_components as dbc\n",
    "import dash_core_components as dcc\n",
    "import dash_html_components as html\n",
    "from dash.dependencies import Input, Output, State\n",
    "import numpy as np\n",
    "import plotly.graph_objs as go\n",
    "import pandas as pd\n",
    "import dash_table\n",
    "import plotly.express as px\n",
    "import matplotlib.pyplot as plt\n",
    "import base64\n",
    "import os\n",
    "from random import randrange"
   ]
  },
  {
   "cell_type": "markdown",
   "metadata": {},
   "source": [
    "#### Dataframe Geral"
   ]
  },
  {
   "cell_type": "code",
   "execution_count": 3,
   "metadata": {},
   "outputs": [],
   "source": [
    "df = pd.read_csv('./data/df_segundo_turno_final_sem_stopwords')\n",
    "df.drop(columns={'Unnamed: 0'}, inplace=True)"
   ]
  },
  {
   "cell_type": "code",
   "execution_count": 4,
   "metadata": {},
   "outputs": [],
   "source": [
    "dfOriginal = pd.read_csv('./data/df_segundo_turno_final_tweets_original')\n",
    "dfOriginal.drop(columns={'Unnamed: 0'}, inplace=True)"
   ]
  },
  {
   "cell_type": "markdown",
   "metadata": {},
   "source": [
    "#### Separando os candidatos"
   ]
  },
  {
   "cell_type": "code",
   "execution_count": 5,
   "metadata": {},
   "outputs": [],
   "source": [
    "dfMarilia = df.loc[df['palavra_chave'] == 'Marília Arraes', :]\n",
    "dfMariliaOriginal = dfOriginal.loc[df['palavra_chave'] == 'Marília Arraes', :]"
   ]
  },
  {
   "cell_type": "code",
   "execution_count": 6,
   "metadata": {},
   "outputs": [],
   "source": [
    "dfJoao = df.loc[df['palavra_chave'] == 'João Campos', :]\n",
    "dfJoaoOriginal = dfOriginal.loc[df['palavra_chave'] == 'João Campos', :]"
   ]
  },
  {
   "cell_type": "markdown",
   "metadata": {},
   "source": [
    "#### Styles"
   ]
  },
  {
   "cell_type": "code",
   "execution_count": 7,
   "metadata": {},
   "outputs": [],
   "source": [
    "# the style arguments for the sidebar.\n",
    "SIDEBAR_STYLE = {\n",
    "    'position': 'fixed',\n",
    "    'top': 0,\n",
    "    'left': 0,\n",
    "    'bottom': 0,\n",
    "    'width': '25%',\n",
    "    'padding': '20px 10px',\n",
    "    'background-color': '#f8f9fa'\n",
    "}\n",
    "\n",
    "# the style arguments for the main content page.\n",
    "CONTENT_STYLE = {\n",
    "    'margin-left': '25%',\n",
    "    'margin-right': '5%',\n",
    "    'padding': '20px 10p'\n",
    "}\n",
    "\n",
    "TEXT_STYLE = {\n",
    "    'textAlign': 'center',\n",
    "    'color': '#191970'\n",
    "}\n",
    "\n",
    "TEXT_TWEET_POSITIVO = {\n",
    "     'textAlign': 'center',\n",
    "    'color': '#1a5678',\n",
    "    'font': 'Arial',\n",
    "    'font-size': '25px'\n",
    "}\n",
    "\n",
    "TEXT_TWEET_NEGATIVO = {\n",
    "    'textAlign': 'center',\n",
    "    'color': '#a13045',\n",
    "    'font': 'Arial',\n",
    "    'font-size': '25px'\n",
    "}\n",
    "\n",
    "TEXT_TWEET = {\n",
    "   \n",
    "}\n",
    "\n",
    "\n",
    "CARD_TEXT_STYLE = {\n",
    "    'textAlign': 'center',\n",
    "    'color': '#0074D9'\n",
    "}\n",
    "\n",
    "TEXT_TITLE = {\n",
    "    'textAlign': 'center',\n",
    "    'color': 'black',\n",
    "    'font-size': '35px'\n",
    "}\n"
   ]
  },
  {
   "cell_type": "code",
   "execution_count": 8,
   "metadata": {},
   "outputs": [],
   "source": [
    "# Dropdown\n",
    "controls = dbc.FormGroup(\n",
    "    [\n",
    "        html.P('Escolha um candidato', style={\n",
    "            'textAlign': 'center'\n",
    "        }),\n",
    "        dcc.Dropdown(\n",
    "            id='candidato-dropdown',\n",
    "            options=[{\n",
    "                'label': 'Marilia Arraes',\n",
    "                'value': '1'\n",
    "            }, \n",
    "            {\n",
    "                'label': 'João Campos',\n",
    "                'value': '2'\n",
    "            },            \n",
    "            ],\n",
    "        ),\n",
    "        html.Br(),\n",
    "        html.Br(),\n",
    "    ]\n",
    ")"
   ]
  },
  {
   "cell_type": "code",
   "execution_count": 9,
   "metadata": {},
   "outputs": [],
   "source": [
    "# Sidebar\n",
    "sidebar = html.Div(\n",
    "    [\n",
    "        html.H2('Candidatos a prefeitura do Recife', style=TEXT_STYLE),\n",
    "        html.Hr(),\n",
    "        controls\n",
    "    ],\n",
    "    style=SIDEBAR_STYLE,\n",
    ")"
   ]
  },
  {
   "cell_type": "code",
   "execution_count": 10,
   "metadata": {},
   "outputs": [],
   "source": [
    "# Content\n",
    "\n",
    "content_first_row = html.Div(id = 'my-first-row')\n",
    "\n",
    "content_second_row = html.Div(id='my-second-row')\n",
    "\n",
    "content_third_row = html.Div(id='my-third-row')\n",
    "\n",
    "content_fourth_row = html.Div(id='my-fourth-row')\n",
    "\n",
    "content = html.Div(\n",
    "    [\n",
    "        html.H2('Análise de sentimentos de tweets sobre os(as) candidatos(as) à Prefeitura de Recife', style=TEXT_STYLE),\n",
    "        html.H3('Segundo turno', style={'textAlign': 'center'}),\n",
    "        html.Hr(),\n",
    "        content_first_row,\n",
    "        content_second_row,\n",
    "        content_third_row,\n",
    "        content_fourth_row\n",
    "    ],\n",
    "    style=CONTENT_STYLE\n",
    ")\n"
   ]
  },
  {
   "cell_type": "code",
   "execution_count": 11,
   "metadata": {},
   "outputs": [],
   "source": [
    "# app\n",
    "app = dash.Dash(external_stylesheets=[dbc.themes.BOOTSTRAP])\n",
    "app.layout = html.Div([sidebar, content])"
   ]
  },
  {
   "cell_type": "code",
   "execution_count": 12,
   "metadata": {},
   "outputs": [],
   "source": [
    "### Controller first row\n",
    "### Aqui irá ficar o plot com a quantidade de tweets para cada classe\n",
    "\n",
    "@app.callback(\n",
    "    dash.dependencies.Output(component_id = 'my-first-row', component_property='children'),\n",
    "    [dash.dependencies.Input(component_id='candidato-dropdown', component_property= 'value')]\n",
    ")\n",
    "def update_output(value):\n",
    "    if (value == '1'): #Marilia\n",
    "        fig = px.bar(dfMarilia['classificacao'].value_counts(),\n",
    "                     labels=dict(index='Classificação', value='Quantidade dos tweets')\n",
    "                    )\n",
    "        return (dcc.Graph(figure=fig))\n",
    "    elif (value == '2'): #João\n",
    "        fig = px.bar(dfJoao['classificacao'].value_counts(),\n",
    "                     labels=dict(index='Classificação', value='Quantidade dos tweets')\n",
    "                    )\n",
    "        return (dcc.Graph(figure=fig))\n",
    "    else:\n",
    "        fig = px.bar(\n",
    "        df['classificacao'].value_counts(),\n",
    "        labels=dict(index='Classificação', value='Quantidade dos tweets'),\n",
    "        title = 'Quantidade dos tweets em geral'\n",
    "        )\n",
    "        fig.show() \n",
    "        return (\n",
    "           dcc.Graph(figure=fig)\n",
    "        )\n"
   ]
  },
  {
   "cell_type": "code",
   "execution_count": 13,
   "metadata": {},
   "outputs": [],
   "source": [
    "### Controller second row\n",
    "@app.callback(\n",
    "    dash.dependencies.Output(component_id = 'my-second-row', component_property='children'),\n",
    "    [dash.dependencies.Input(component_id='candidato-dropdown', component_property= 'value')]\n",
    ")\n",
    "def update_output(value):\n",
    "    if (value == '1'): #Marilia\n",
    "        path_folder = '/wordclouds/Marilia_segundo_turno/'\n",
    "        path_img = path_folder + 'junto.png'\n",
    "        layout = {'title': {'text':'DISPLAY ME!'}}\n",
    "        renderIMG = html.Div([\n",
    "            html.Img(src= app.get_asset_url(path_img), style={'height':'50%', 'width':'900px'}),\n",
    "        ])\n",
    "        return renderIMG\n",
    "    elif (value == '2'): #João Campos\n",
    "        path_folder = '/wordclouds/joao_segundo_turno/'\n",
    "        path_img = path_folder + 'juntos.png'\n",
    "        renderIMG = html.Div([\n",
    "            html.Img(src= app.get_asset_url(path_img), style={'height':'50%', 'width':'1000px'}),\n",
    "        ])\n",
    "        return renderIMG\n",
    "        \n",
    "    else:\n",
    "        dictRanking = []\n",
    "        dictRanking.append({'Candidato': 'Marília Arraes', 'Positivo': dfMarilia['classificacao'].value_counts()['Positivo'], 'Neutro': dfMarilia['classificacao'].value_counts()['Neutro'], 'Negativo':dfMarilia['classificacao'].value_counts()['Negativo'] })\n",
    "        dictRanking.append({'Candidato': 'João Campos', 'Positivo': dfJoao['classificacao'].value_counts()['Positivo'], 'Neutro': dfJoao['classificacao'].value_counts()['Neutro'], 'Negativo':dfJoao['classificacao'].value_counts()['Negativo']})\n",
    "        dfRanking = pd.DataFrame(dictRanking)\n",
    "        fig = px.bar(dfRanking, x = 'Candidato', y = ['Positivo','Neutro', 'Negativo'], title='Ranking das análises', labels=dict(index='Candidato', value='Quantidade dos tweets'))\n",
    "        return dcc.Graph(figure=fig)"
   ]
  },
  {
   "cell_type": "code",
   "execution_count": 14,
   "metadata": {},
   "outputs": [],
   "source": [
    "# Controlelr third row\n",
    "### Aqui irá ficar os tweets positivos\n",
    "@app.callback(\n",
    "    dash.dependencies.Output(component_id = 'my-third-row', component_property='children'),\n",
    "    [dash.dependencies.Input(component_id='candidato-dropdown', component_property= 'value')]\n",
    ")\n",
    "\n",
    "def update_output(value):\n",
    "    if (value == '1'): #Marilia\n",
    "        dfMariliaOriginalPositivo = dfMariliaOriginal.loc[dfMariliaOriginal['classificacao'] == 'Positivo', :]\n",
    "        tamanhoDF = len(dfMariliaOriginalPositivo['tweet'])\n",
    "        return (\n",
    "            html.Div([\n",
    "                html.H1('Tweets positivos', style=TEXT_TITLE),\n",
    "                html.Br(),\n",
    "                html.Br(),\n",
    "                html.Br(),\n",
    "                html.H3(dfMariliaOriginalPositivo['tweet'].values[randrange(tamanhoDF)], style=TEXT_TWEET_POSITIVO),\n",
    "                html.Br(),\n",
    "                html.H3(dfMariliaOriginalPositivo['tweet'].values[randrange(tamanhoDF)], style=TEXT_TWEET_POSITIVO),\n",
    "                html.Br(),\n",
    "                html.H3(dfMariliaOriginalPositivo['tweet'].values[randrange(tamanhoDF)], style=TEXT_TWEET_POSITIVO),\n",
    "                html.Br(),\n",
    "                html.H3(dfMariliaOriginalPositivo['tweet'].values[randrange(tamanhoDF)], style=TEXT_TWEET_POSITIVO),\n",
    "                html.Br(),\n",
    "            ])\n",
    "        )\n",
    "    elif (value == '2'): #João\n",
    "        dfJoaoOriginalPositivo = dfJoaoOriginal.loc[dfJoaoOriginal['classificacao'] == 'Positivo', :]\n",
    "        tamanhoDF = len(dfJoaoOriginalPositivo['tweet'])\n",
    "        return (\n",
    "            html.Div([\n",
    "                html.H1('Tweets positivos', style=TEXT_TITLE),\n",
    "                html.Br(),\n",
    "                html.Br(),\n",
    "                html.Br(),\n",
    "                html.H3(dfJoaoOriginalPositivo['tweet'].values[randrange(tamanhoDF)], style=TEXT_TWEET_POSITIVO),\n",
    "                html.Br(),\n",
    "                html.H3(dfJoaoOriginalPositivo['tweet'].values[randrange(tamanhoDF)], style=TEXT_TWEET_POSITIVO),\n",
    "                html.Br(),\n",
    "                html.H3(dfJoaoOriginalPositivo['tweet'].values[randrange(tamanhoDF)], style=TEXT_TWEET_POSITIVO),\n",
    "                html.Br(),\n",
    "                html.H3(dfJoaoOriginalPositivo['tweet'].values[randrange(tamanhoDF)], style=TEXT_TWEET_POSITIVO),\n",
    "                html.Br(),\n",
    "            ])\n",
    "        )\n",
    "    else:\n",
    "        return ''\n"
   ]
  },
  {
   "cell_type": "code",
   "execution_count": 15,
   "metadata": {},
   "outputs": [],
   "source": [
    "# Controlelr fourth row\n",
    "### Aqui irá ficar os tweets Negativos\n",
    "@app.callback(\n",
    "    dash.dependencies.Output(component_id = 'my-fourth-row', component_property='children'),\n",
    "    [dash.dependencies.Input(component_id='candidato-dropdown', component_property= 'value')]\n",
    ")\n",
    "def update_output(value):\n",
    "    if (value == '1'): #Marilia\n",
    "        dfMariliaOriginalNegativo = dfMariliaOriginal.loc[dfMariliaOriginal['classificacao'] == 'Negativo', :]\n",
    "        tamanhoDF = len(dfMariliaOriginalNegativo['tweet'])\n",
    "        return (\n",
    "            html.Div([\n",
    "                html.H1('Tweets Negativos', style=TEXT_TITLE),\n",
    "                html.Br(),\n",
    "                html.Br(),\n",
    "                html.Br(),\n",
    "                html.H3(dfMariliaOriginalNegativo['tweet'].values[randrange(tamanhoDF)], style=TEXT_TWEET_NEGATIVO),\n",
    "                html.Br(),\n",
    "                html.H3(dfMariliaOriginalNegativo['tweet'].values[randrange(tamanhoDF)], style=TEXT_TWEET_NEGATIVO),\n",
    "                html.Br(),\n",
    "                html.H3(dfMariliaOriginalNegativo['tweet'].values[randrange(tamanhoDF)], style=TEXT_TWEET_NEGATIVO),\n",
    "                html.Br(),\n",
    "                html.H3(dfMariliaOriginalNegativo['tweet'].values[randrange(tamanhoDF)], style=TEXT_TWEET_NEGATIVO),\n",
    "                html.Br(),\n",
    "            ])\n",
    "        )\n",
    "    elif (value == '2'): #João\n",
    "        dfJoaoOriginalNegativo = dfJoaoOriginal.loc[dfJoaoOriginal['classificacao'] == 'Negativo', :]\n",
    "        tamanhoDF = len(dfJoaoOriginalNegativo['tweet'])\n",
    "        return (\n",
    "            html.Div([\n",
    "                html.H1('Tweets Negativos', style=TEXT_TITLE),\n",
    "                html.Br(),\n",
    "                html.Br(),\n",
    "                html.Br(),\n",
    "                html.H3(dfJoaoOriginalNegativo['tweet'].values[randrange(tamanhoDF)], style=TEXT_TWEET_NEGATIVO),\n",
    "                html.Br(),\n",
    "                html.H3(dfJoaoOriginalNegativo['tweet'].values[randrange(tamanhoDF)], style=TEXT_TWEET_NEGATIVO),\n",
    "                html.Br(),\n",
    "                html.H3(dfJoaoOriginalNegativo['tweet'].values[randrange(tamanhoDF)], style=TEXT_TWEET_NEGATIVO),\n",
    "                html.Br(),\n",
    "                html.H3(dfJoaoOriginalNegativo['tweet'].values[randrange(tamanhoDF)], style=TEXT_TWEET_NEGATIVO),\n",
    "                html.Br(),\n",
    "            ])\n",
    "        )\n",
    "    else:\n",
    "        return ''\n"
   ]
  },
  {
   "cell_type": "code",
   "execution_count": null,
   "metadata": {},
   "outputs": [
    {
     "name": "stdout",
     "output_type": "stream",
     "text": [
      "Dash is running on http://127.0.0.1:4000/\n",
      "\n",
      " * Serving Flask app \"__main__\" (lazy loading)\n",
      " * Environment: production\n",
      "   WARNING: This is a development server. Do not use it in a production deployment.\n",
      "   Use a production WSGI server instead.\n",
      " * Debug mode: off\n"
     ]
    },
    {
     "name": "stderr",
     "output_type": "stream",
     "text": [
      " * Running on http://127.0.0.1:4000/ (Press CTRL+C to quit)\n"
     ]
    }
   ],
   "source": [
    "# Main\n",
    "if __name__ == '__main__':\n",
    "    app.run_server(port='4000')"
   ]
  },
  {
   "cell_type": "code",
   "execution_count": null,
   "metadata": {},
   "outputs": [],
   "source": []
  },
  {
   "cell_type": "code",
   "execution_count": null,
   "metadata": {},
   "outputs": [],
   "source": []
  },
  {
   "cell_type": "code",
   "execution_count": null,
   "metadata": {},
   "outputs": [],
   "source": []
  }
 ],
 "metadata": {
  "kernelspec": {
   "display_name": "Python 3",
   "language": "python",
   "name": "python3"
  },
  "language_info": {
   "codemirror_mode": {
    "name": "ipython",
    "version": 3
   },
   "file_extension": ".py",
   "mimetype": "text/x-python",
   "name": "python",
   "nbconvert_exporter": "python",
   "pygments_lexer": "ipython3",
   "version": "3.8.6"
  }
 },
 "nbformat": 4,
 "nbformat_minor": 4
}
