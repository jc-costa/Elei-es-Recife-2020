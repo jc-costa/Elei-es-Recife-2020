{
 "cells": [
  {
   "cell_type": "code",
   "execution_count": 1,
   "metadata": {},
   "outputs": [],
   "source": [
    "import pandas as pd\n",
    "import sys\n",
    "from sklearn.model_selection import train_test_split\n",
    "from sklearn.naive_bayes import GaussianNB\n",
    "from sklearn.naive_bayes import MultinomialNB\n",
    "from sklearn.metrics import classification_report\n",
    "from sklearn.feature_extraction.text import CountVectorizer\n",
    "vectorizer = CountVectorizer()"
   ]
  },
  {
   "cell_type": "code",
   "execution_count": 2,
   "metadata": {},
   "outputs": [],
   "source": [
    "df_treino = pd.read_csv('./data/dataset_treino') ### Importando nosso dataframe de treino\n",
    "df_treino.drop('Unnamed: 0', axis=1, inplace=True) ### Removendo coluna Unnamed"
   ]
  },
  {
   "cell_type": "code",
   "execution_count": 3,
   "metadata": {},
   "outputs": [],
   "source": [
    "sys.path.append('./scripts') ### Importando a função clean text dentro da pasta script\n",
    "from cleanText import cleanTxt "
   ]
  },
  {
   "cell_type": "code",
   "execution_count": 4,
   "metadata": {},
   "outputs": [],
   "source": [
    "df_treino['tweet'] = df_treino['tweet'].apply(cleanTxt) ### A coluna tweet recebe agora os tweets limpos\n",
    "df_treino['tweet'] = df_treino['tweet'].apply(lambda x: x.lower()) ### Colocando todos os tweets em lowerCase"
   ]
  },
  {
   "cell_type": "code",
   "execution_count": 5,
   "metadata": {},
   "outputs": [],
   "source": [
    "sys.path.append('./scripts') ### Importando a função removePunctuation\n",
    "from removePunctuation import removePunctuation "
   ]
  },
  {
   "cell_type": "code",
   "execution_count": 6,
   "metadata": {},
   "outputs": [],
   "source": [
    "df_treino['tweet'] = df_treino.loc[:,'tweet'].apply(removePunctuation) ### Remove pontuações"
   ]
  },
  {
   "cell_type": "code",
   "execution_count": 7,
   "metadata": {},
   "outputs": [],
   "source": [
    "sys.path.append('./scripts') ### Importando a função removePunctuation\n",
    "from removeStopWords import removeStopWords "
   ]
  },
  {
   "cell_type": "code",
   "execution_count": 8,
   "metadata": {},
   "outputs": [],
   "source": [
    "df_treino['tweet'] = df_treino.loc[:,'tweet'].apply(removeStopWords) ### Remove stopwords com base na língua portuguesa"
   ]
  },
  {
   "cell_type": "code",
   "execution_count": 9,
   "metadata": {},
   "outputs": [
    {
     "name": "stderr",
     "output_type": "stream",
     "text": [
      "[nltk_data] Downloading package punkt to\n",
      "[nltk_data]     C:\\Users\\jeffi\\AppData\\Roaming\\nltk_data...\n",
      "[nltk_data]   Package punkt is already up-to-date!\n"
     ]
    }
   ],
   "source": [
    "sys.path.append('./scripts') ### Importando a função removePunctuation\n",
    "from tokenizar import Tokenizar "
   ]
  },
  {
   "cell_type": "code",
   "execution_count": 10,
   "metadata": {},
   "outputs": [],
   "source": [
    "tweets_tokenizados = df_treino.loc[:,'tweet'].apply(Tokenizar) ### Criar um array de tokens a partir dos tweets"
   ]
  },
  {
   "cell_type": "code",
   "execution_count": 11,
   "metadata": {},
   "outputs": [],
   "source": [
    "from sklearn.feature_extraction.text import CountVectorizer\n",
    "vectorizer = CountVectorizer()\n",
    "tweets_vector = vectorizer.fit_transform(df_treino['tweet'].tolist())"
   ]
  },
  {
   "cell_type": "code",
   "execution_count": 12,
   "metadata": {},
   "outputs": [],
   "source": [
    "# Treino de modelo de Machine Learning:\n",
    "modelo = MultinomialNB()"
   ]
  },
  {
   "cell_type": "code",
   "execution_count": 13,
   "metadata": {},
   "outputs": [],
   "source": [
    "# Treino de modelo de Machine Learning:\n",
    "modelo = MultinomialNB()"
   ]
  },
  {
   "cell_type": "code",
   "execution_count": 14,
   "metadata": {},
   "outputs": [],
   "source": [
    "# Separando dataframe em treino e teste\n",
    "X_train,X_test,y_train,y_test = train_test_split(tweets_vector, df_treino['Analise'], test_size=0.15)"
   ]
  },
  {
   "cell_type": "code",
   "execution_count": 15,
   "metadata": {},
   "outputs": [
    {
     "data": {
      "text/plain": [
       "MultinomialNB()"
      ]
     },
     "execution_count": 15,
     "metadata": {},
     "output_type": "execute_result"
    }
   ],
   "source": [
    "# Fit\n",
    "modelo.fit(X_train,y_train)"
   ]
  },
  {
   "cell_type": "code",
   "execution_count": 16,
   "metadata": {},
   "outputs": [],
   "source": [
    "predict = modelo.predict(X_test)"
   ]
  },
  {
   "cell_type": "code",
   "execution_count": 17,
   "metadata": {},
   "outputs": [
    {
     "data": {
      "text/plain": [
       "array(['Negativo', 'Negativo', 'Neutro', 'Negativo', 'Positivo',\n",
       "       'Positivo', 'Neutro', 'Neutro', 'Neutro', 'Neutro', 'Negativo',\n",
       "       'Positivo', 'Positivo', 'Negativo', 'Neutro', 'Positivo', 'Neutro',\n",
       "       'Positivo', 'Negativo', 'Neutro', 'Neutro', 'Negativo', 'Negativo',\n",
       "       'Negativo', 'Negativo', 'Negativo', 'Positivo', 'Negativo',\n",
       "       'Negativo', 'Neutro', 'Negativo', 'Negativo', 'Positivo', 'Neutro',\n",
       "       'Neutro', 'Negativo', 'Negativo', 'Negativo', 'Neutro', 'Neutro',\n",
       "       'Positivo', 'Negativo', 'Neutro', 'Negativo', 'Neutro'],\n",
       "      dtype='<U8')"
      ]
     },
     "execution_count": 17,
     "metadata": {},
     "output_type": "execute_result"
    }
   ],
   "source": [
    "predict"
   ]
  },
  {
   "cell_type": "code",
   "execution_count": 18,
   "metadata": {},
   "outputs": [
    {
     "name": "stdout",
     "output_type": "stream",
     "text": [
      "              precision    recall  f1-score   support\n",
      "\n",
      "    Negativo       0.75      0.60      0.67        20\n",
      "      Neutro       0.62      0.81      0.70        16\n",
      "    Positivo       0.62      0.56      0.59         9\n",
      "\n",
      "    accuracy                           0.67        45\n",
      "   macro avg       0.66      0.66      0.65        45\n",
      "weighted avg       0.68      0.67      0.66        45\n",
      "\n"
     ]
    }
   ],
   "source": [
    "print(classification_report(modelo.predict(X_test),y_test))"
   ]
  },
  {
   "cell_type": "markdown",
   "metadata": {},
   "source": [
    "### Classificando dataframe segundo turno"
   ]
  },
  {
   "cell_type": "code",
   "execution_count": 37,
   "metadata": {},
   "outputs": [],
   "source": [
    "df_segundo_turno = pd.read_csv('./data/df_segundo_turno_original') # Lendo CSV"
   ]
  },
  {
   "cell_type": "code",
   "execution_count": 38,
   "metadata": {},
   "outputs": [],
   "source": [
    "tweets_original = df_segundo_turno[['tweet','palavra_chave']]"
   ]
  },
  {
   "cell_type": "code",
   "execution_count": 39,
   "metadata": {},
   "outputs": [],
   "source": [
    "df_segundo_turno.drop('Unnamed: 0', axis=1, inplace=True) # Removida coluna unnamed"
   ]
  },
  {
   "cell_type": "code",
   "execution_count": 40,
   "metadata": {},
   "outputs": [],
   "source": [
    "df_segundo_turno['tweet'] = df_segundo_turno['tweet'].apply(cleanTxt) ### A coluna tweet recebe agora os tweets limpos\n",
    "df_segundo_turno['tweet'] = df_segundo_turno['tweet'].apply(lambda x: x.lower()) ### Colocando todos os tweets em lowerCase"
   ]
  },
  {
   "cell_type": "code",
   "execution_count": 23,
   "metadata": {},
   "outputs": [],
   "source": [
    "df_segundo_turno['tweet'] = df_segundo_turno.loc[:,'tweet'].apply(removePunctuation) ### Remove pontuações"
   ]
  },
  {
   "cell_type": "code",
   "execution_count": 41,
   "metadata": {},
   "outputs": [],
   "source": [
    "df_segundo_turno['tweet'] = df_segundo_turno.loc[:,'tweet'].apply(removeStopWords) ### Remove stopwords com base na língua portuguesa"
   ]
  },
  {
   "cell_type": "code",
   "execution_count": 42,
   "metadata": {},
   "outputs": [],
   "source": [
    "tweets_segundo_turno = vectorizer.transform(df_primeiro_turno['tweet'].tolist())"
   ]
  },
  {
   "cell_type": "code",
   "execution_count": 45,
   "metadata": {},
   "outputs": [
    {
     "data": {
      "text/plain": [
       "<1000x1006 sparse matrix of type '<class 'numpy.int64'>'\n",
       "\twith 8991 stored elements in Compressed Sparse Row format>"
      ]
     },
     "execution_count": 45,
     "metadata": {},
     "output_type": "execute_result"
    }
   ],
   "source": [
    "tweets_segundo_turno"
   ]
  },
  {
   "cell_type": "code",
   "execution_count": 46,
   "metadata": {},
   "outputs": [],
   "source": [
    "classificacao_segundo_turno = modelo.predict(tweets_primeiro_turno)"
   ]
  },
  {
   "cell_type": "code",
   "execution_count": 47,
   "metadata": {},
   "outputs": [
    {
     "data": {
      "text/plain": [
       "array(['Positivo', 'Positivo', 'Positivo', 'Positivo', 'Negativo',\n",
       "       'Positivo', 'Positivo', 'Positivo', 'Positivo', 'Positivo',\n",
       "       'Positivo', 'Neutro', 'Positivo', 'Positivo', 'Negativo',\n",
       "       'Positivo', 'Negativo', 'Positivo', 'Positivo', 'Negativo',\n",
       "       'Positivo', 'Positivo', 'Positivo', 'Positivo', 'Negativo',\n",
       "       'Negativo', 'Positivo', 'Neutro', 'Neutro', 'Negativo', 'Negativo',\n",
       "       'Positivo', 'Positivo', 'Negativo', 'Negativo', 'Positivo',\n",
       "       'Positivo', 'Positivo', 'Negativo', 'Positivo', 'Negativo',\n",
       "       'Negativo', 'Positivo', 'Positivo', 'Positivo', 'Positivo',\n",
       "       'Positivo', 'Negativo', 'Negativo', 'Positivo', 'Positivo',\n",
       "       'Positivo', 'Positivo', 'Positivo', 'Positivo', 'Positivo',\n",
       "       'Negativo', 'Negativo', 'Negativo', 'Positivo', 'Negativo',\n",
       "       'Positivo', 'Positivo', 'Positivo', 'Positivo', 'Positivo',\n",
       "       'Positivo', 'Positivo', 'Negativo', 'Positivo', 'Positivo',\n",
       "       'Negativo', 'Positivo', 'Positivo', 'Positivo', 'Neutro', 'Neutro',\n",
       "       'Positivo', 'Positivo', 'Negativo', 'Negativo', 'Positivo',\n",
       "       'Positivo', 'Positivo', 'Positivo', 'Positivo', 'Positivo',\n",
       "       'Positivo', 'Positivo', 'Neutro', 'Positivo', 'Positivo',\n",
       "       'Positivo', 'Positivo', 'Negativo', 'Positivo', 'Neutro',\n",
       "       'Positivo', 'Positivo', 'Positivo', 'Negativo', 'Positivo',\n",
       "       'Positivo', 'Positivo', 'Positivo', 'Negativo', 'Positivo',\n",
       "       'Negativo', 'Positivo', 'Negativo', 'Positivo', 'Positivo',\n",
       "       'Negativo', 'Positivo', 'Positivo', 'Positivo', 'Positivo',\n",
       "       'Positivo', 'Negativo', 'Negativo', 'Positivo', 'Positivo',\n",
       "       'Positivo', 'Negativo', 'Negativo', 'Positivo', 'Positivo',\n",
       "       'Negativo', 'Negativo', 'Negativo', 'Positivo', 'Positivo',\n",
       "       'Positivo', 'Positivo', 'Negativo', 'Positivo', 'Positivo',\n",
       "       'Positivo', 'Positivo', 'Positivo', 'Negativo', 'Positivo',\n",
       "       'Positivo', 'Positivo', 'Negativo', 'Positivo', 'Negativo',\n",
       "       'Negativo', 'Neutro', 'Positivo', 'Positivo', 'Negativo',\n",
       "       'Positivo', 'Positivo', 'Negativo', 'Positivo', 'Negativo',\n",
       "       'Positivo', 'Negativo', 'Negativo', 'Negativo', 'Negativo',\n",
       "       'Negativo', 'Positivo', 'Positivo', 'Positivo', 'Negativo',\n",
       "       'Negativo', 'Positivo', 'Positivo', 'Negativo', 'Positivo',\n",
       "       'Positivo', 'Positivo', 'Positivo', 'Positivo', 'Negativo',\n",
       "       'Positivo', 'Positivo', 'Negativo', 'Positivo', 'Positivo',\n",
       "       'Positivo', 'Positivo', 'Positivo', 'Negativo', 'Positivo',\n",
       "       'Positivo', 'Positivo', 'Positivo', 'Negativo', 'Negativo',\n",
       "       'Positivo', 'Positivo', 'Negativo', 'Neutro', 'Positivo',\n",
       "       'Positivo', 'Negativo', 'Positivo', 'Positivo', 'Negativo',\n",
       "       'Positivo', 'Positivo', 'Positivo', 'Positivo', 'Positivo',\n",
       "       'Positivo', 'Negativo', 'Positivo', 'Positivo', 'Positivo',\n",
       "       'Positivo', 'Neutro', 'Positivo', 'Positivo', 'Negativo',\n",
       "       'Negativo', 'Positivo', 'Positivo', 'Positivo', 'Positivo',\n",
       "       'Positivo', 'Negativo', 'Positivo', 'Negativo', 'Positivo',\n",
       "       'Negativo', 'Positivo', 'Positivo', 'Positivo', 'Positivo',\n",
       "       'Positivo', 'Positivo', 'Negativo', 'Positivo', 'Positivo',\n",
       "       'Negativo', 'Negativo', 'Positivo', 'Negativo', 'Positivo',\n",
       "       'Negativo', 'Negativo', 'Positivo', 'Positivo', 'Negativo',\n",
       "       'Negativo', 'Positivo', 'Negativo', 'Positivo', 'Positivo',\n",
       "       'Negativo', 'Positivo', 'Negativo', 'Negativo', 'Positivo',\n",
       "       'Positivo', 'Negativo', 'Negativo', 'Neutro', 'Negativo', 'Neutro',\n",
       "       'Positivo', 'Negativo', 'Negativo', 'Positivo', 'Positivo',\n",
       "       'Positivo', 'Negativo', 'Negativo', 'Positivo', 'Positivo',\n",
       "       'Negativo', 'Positivo', 'Positivo', 'Negativo', 'Positivo',\n",
       "       'Positivo', 'Positivo', 'Negativo', 'Negativo', 'Positivo',\n",
       "       'Positivo', 'Positivo', 'Negativo', 'Negativo', 'Neutro',\n",
       "       'Negativo', 'Negativo', 'Positivo', 'Positivo', 'Positivo',\n",
       "       'Negativo', 'Negativo', 'Negativo', 'Negativo', 'Positivo',\n",
       "       'Negativo', 'Positivo', 'Positivo', 'Negativo', 'Positivo',\n",
       "       'Negativo', 'Negativo', 'Positivo', 'Positivo', 'Positivo',\n",
       "       'Neutro', 'Negativo', 'Negativo', 'Negativo', 'Negativo',\n",
       "       'Positivo', 'Positivo', 'Positivo', 'Negativo', 'Negativo',\n",
       "       'Positivo', 'Negativo', 'Positivo', 'Positivo', 'Positivo',\n",
       "       'Positivo', 'Positivo', 'Positivo', 'Negativo', 'Positivo',\n",
       "       'Negativo', 'Negativo', 'Negativo', 'Negativo', 'Positivo',\n",
       "       'Neutro', 'Positivo', 'Positivo', 'Positivo', 'Positivo',\n",
       "       'Positivo', 'Positivo', 'Positivo', 'Negativo', 'Positivo',\n",
       "       'Positivo', 'Neutro', 'Positivo', 'Negativo', 'Negativo',\n",
       "       'Positivo', 'Positivo', 'Positivo', 'Positivo', 'Neutro',\n",
       "       'Positivo', 'Negativo', 'Positivo', 'Positivo', 'Neutro',\n",
       "       'Negativo', 'Negativo', 'Negativo', 'Negativo', 'Positivo',\n",
       "       'Positivo', 'Neutro', 'Negativo', 'Neutro', 'Negativo', 'Positivo',\n",
       "       'Negativo', 'Negativo', 'Negativo', 'Negativo', 'Positivo',\n",
       "       'Positivo', 'Negativo', 'Negativo', 'Positivo', 'Positivo',\n",
       "       'Positivo', 'Negativo', 'Positivo', 'Positivo', 'Positivo',\n",
       "       'Positivo', 'Positivo', 'Neutro', 'Negativo', 'Negativo',\n",
       "       'Positivo', 'Negativo', 'Positivo', 'Neutro', 'Positivo',\n",
       "       'Negativo', 'Negativo', 'Negativo', 'Negativo', 'Neutro', 'Neutro',\n",
       "       'Negativo', 'Negativo', 'Negativo', 'Positivo', 'Positivo',\n",
       "       'Positivo', 'Negativo', 'Positivo', 'Negativo', 'Negativo',\n",
       "       'Neutro', 'Positivo', 'Negativo', 'Positivo', 'Neutro', 'Positivo',\n",
       "       'Negativo', 'Negativo', 'Positivo', 'Negativo', 'Positivo',\n",
       "       'Positivo', 'Positivo', 'Positivo', 'Positivo', 'Positivo',\n",
       "       'Positivo', 'Negativo', 'Positivo', 'Positivo', 'Positivo',\n",
       "       'Positivo', 'Negativo', 'Neutro', 'Positivo', 'Positivo',\n",
       "       'Negativo', 'Neutro', 'Negativo', 'Negativo', 'Positivo',\n",
       "       'Positivo', 'Positivo', 'Positivo', 'Neutro', 'Positivo',\n",
       "       'Positivo', 'Neutro', 'Positivo', 'Neutro', 'Positivo', 'Positivo',\n",
       "       'Positivo', 'Negativo', 'Positivo', 'Negativo', 'Positivo',\n",
       "       'Positivo', 'Positivo', 'Positivo', 'Positivo', 'Positivo',\n",
       "       'Negativo', 'Positivo', 'Positivo', 'Neutro', 'Negativo',\n",
       "       'Positivo', 'Positivo', 'Positivo', 'Positivo', 'Negativo',\n",
       "       'Positivo', 'Negativo', 'Positivo', 'Positivo', 'Negativo',\n",
       "       'Negativo', 'Neutro', 'Negativo', 'Neutro', 'Positivo', 'Negativo',\n",
       "       'Positivo', 'Positivo', 'Positivo', 'Negativo', 'Neutro',\n",
       "       'Negativo', 'Positivo', 'Negativo', 'Neutro', 'Neutro', 'Positivo',\n",
       "       'Negativo', 'Positivo', 'Negativo', 'Positivo', 'Negativo',\n",
       "       'Positivo', 'Positivo', 'Negativo', 'Negativo', 'Positivo',\n",
       "       'Negativo', 'Positivo', 'Neutro', 'Positivo', 'Positivo', 'Neutro',\n",
       "       'Negativo', 'Negativo', 'Negativo', 'Negativo', 'Negativo',\n",
       "       'Negativo', 'Neutro', 'Negativo', 'Negativo', 'Negativo',\n",
       "       'Negativo', 'Negativo', 'Negativo', 'Negativo', 'Negativo',\n",
       "       'Negativo', 'Negativo', 'Negativo', 'Negativo', 'Negativo',\n",
       "       'Negativo', 'Positivo', 'Negativo', 'Neutro', 'Positivo',\n",
       "       'Negativo', 'Negativo', 'Positivo', 'Neutro', 'Neutro', 'Negativo',\n",
       "       'Negativo', 'Positivo', 'Positivo', 'Negativo', 'Negativo',\n",
       "       'Neutro', 'Negativo', 'Negativo', 'Neutro', 'Negativo', 'Negativo',\n",
       "       'Negativo', 'Positivo', 'Positivo', 'Negativo', 'Negativo',\n",
       "       'Negativo', 'Negativo', 'Positivo', 'Positivo', 'Neutro',\n",
       "       'Negativo', 'Negativo', 'Negativo', 'Negativo', 'Negativo',\n",
       "       'Neutro', 'Positivo', 'Negativo', 'Neutro', 'Negativo', 'Negativo',\n",
       "       'Negativo', 'Negativo', 'Negativo', 'Negativo', 'Negativo',\n",
       "       'Negativo', 'Negativo', 'Neutro', 'Negativo', 'Negativo',\n",
       "       'Negativo', 'Negativo', 'Negativo', 'Negativo', 'Positivo',\n",
       "       'Negativo', 'Negativo', 'Negativo', 'Positivo', 'Negativo',\n",
       "       'Negativo', 'Negativo', 'Positivo', 'Positivo', 'Negativo',\n",
       "       'Positivo', 'Negativo', 'Neutro', 'Positivo', 'Negativo',\n",
       "       'Negativo', 'Negativo', 'Negativo', 'Negativo', 'Negativo',\n",
       "       'Negativo', 'Negativo', 'Negativo', 'Positivo', 'Negativo',\n",
       "       'Positivo', 'Negativo', 'Negativo', 'Positivo', 'Negativo',\n",
       "       'Negativo', 'Negativo', 'Negativo', 'Negativo', 'Positivo',\n",
       "       'Negativo', 'Negativo', 'Negativo', 'Negativo', 'Neutro',\n",
       "       'Negativo', 'Negativo', 'Negativo', 'Negativo', 'Negativo',\n",
       "       'Negativo', 'Positivo', 'Negativo', 'Negativo', 'Negativo',\n",
       "       'Negativo', 'Negativo', 'Negativo', 'Negativo', 'Negativo',\n",
       "       'Negativo', 'Negativo', 'Positivo', 'Negativo', 'Positivo',\n",
       "       'Negativo', 'Positivo', 'Negativo', 'Negativo', 'Positivo',\n",
       "       'Negativo', 'Positivo', 'Negativo', 'Negativo', 'Neutro',\n",
       "       'Negativo', 'Positivo', 'Negativo', 'Negativo', 'Negativo',\n",
       "       'Negativo', 'Neutro', 'Negativo', 'Negativo', 'Negativo', 'Neutro',\n",
       "       'Negativo', 'Negativo', 'Positivo', 'Negativo', 'Negativo',\n",
       "       'Neutro', 'Negativo', 'Negativo', 'Negativo', 'Negativo',\n",
       "       'Negativo', 'Negativo', 'Negativo', 'Negativo', 'Negativo',\n",
       "       'Negativo', 'Negativo', 'Negativo', 'Negativo', 'Negativo',\n",
       "       'Negativo', 'Negativo', 'Negativo', 'Negativo', 'Neutro',\n",
       "       'Positivo', 'Negativo', 'Negativo', 'Negativo', 'Positivo',\n",
       "       'Positivo', 'Negativo', 'Neutro', 'Negativo', 'Neutro', 'Negativo',\n",
       "       'Negativo', 'Negativo', 'Negativo', 'Negativo', 'Negativo',\n",
       "       'Negativo', 'Negativo', 'Positivo', 'Negativo', 'Positivo',\n",
       "       'Positivo', 'Negativo', 'Negativo', 'Positivo', 'Positivo',\n",
       "       'Negativo', 'Neutro', 'Negativo', 'Negativo', 'Negativo',\n",
       "       'Negativo', 'Positivo', 'Negativo', 'Negativo', 'Negativo',\n",
       "       'Negativo', 'Negativo', 'Negativo', 'Negativo', 'Negativo',\n",
       "       'Neutro', 'Negativo', 'Negativo', 'Negativo', 'Positivo',\n",
       "       'Negativo', 'Negativo', 'Negativo', 'Negativo', 'Positivo',\n",
       "       'Negativo', 'Negativo', 'Negativo', 'Negativo', 'Positivo',\n",
       "       'Neutro', 'Negativo', 'Negativo', 'Positivo', 'Negativo',\n",
       "       'Negativo', 'Neutro', 'Negativo', 'Neutro', 'Neutro', 'Neutro',\n",
       "       'Negativo', 'Negativo', 'Negativo', 'Positivo', 'Negativo',\n",
       "       'Negativo', 'Negativo', 'Negativo', 'Negativo', 'Negativo',\n",
       "       'Negativo', 'Neutro', 'Negativo', 'Negativo', 'Negativo', 'Neutro',\n",
       "       'Negativo', 'Negativo', 'Negativo', 'Negativo', 'Negativo',\n",
       "       'Negativo', 'Negativo', 'Neutro', 'Negativo', 'Negativo',\n",
       "       'Negativo', 'Neutro', 'Negativo', 'Negativo', 'Negativo', 'Neutro',\n",
       "       'Negativo', 'Neutro', 'Negativo', 'Negativo', 'Negativo', 'Neutro',\n",
       "       'Negativo', 'Negativo', 'Negativo', 'Positivo', 'Negativo',\n",
       "       'Positivo', 'Neutro', 'Negativo', 'Positivo', 'Negativo',\n",
       "       'Negativo', 'Negativo', 'Negativo', 'Neutro', 'Neutro', 'Negativo',\n",
       "       'Negativo', 'Negativo', 'Negativo', 'Negativo', 'Negativo',\n",
       "       'Negativo', 'Negativo', 'Negativo', 'Neutro', 'Neutro', 'Negativo',\n",
       "       'Negativo', 'Neutro', 'Negativo', 'Negativo', 'Negativo',\n",
       "       'Negativo', 'Negativo', 'Neutro', 'Negativo', 'Positivo',\n",
       "       'Negativo', 'Negativo', 'Negativo', 'Neutro', 'Neutro', 'Neutro',\n",
       "       'Negativo', 'Positivo', 'Positivo', 'Positivo', 'Negativo',\n",
       "       'Negativo', 'Negativo', 'Negativo', 'Negativo', 'Negativo',\n",
       "       'Negativo', 'Negativo', 'Negativo', 'Positivo', 'Negativo',\n",
       "       'Negativo', 'Negativo', 'Neutro', 'Negativo', 'Positivo',\n",
       "       'Negativo', 'Neutro', 'Negativo', 'Negativo', 'Neutro', 'Negativo',\n",
       "       'Negativo', 'Negativo', 'Negativo', 'Positivo', 'Negativo',\n",
       "       'Negativo', 'Positivo', 'Neutro', 'Negativo', 'Positivo',\n",
       "       'Negativo', 'Neutro', 'Positivo', 'Negativo', 'Negativo',\n",
       "       'Negativo', 'Positivo', 'Negativo', 'Negativo', 'Negativo',\n",
       "       'Negativo', 'Negativo', 'Positivo', 'Negativo', 'Negativo',\n",
       "       'Negativo', 'Neutro', 'Negativo', 'Positivo', 'Negativo',\n",
       "       'Negativo', 'Negativo', 'Negativo', 'Neutro', 'Negativo', 'Neutro',\n",
       "       'Negativo', 'Neutro', 'Neutro', 'Negativo', 'Negativo', 'Negativo',\n",
       "       'Neutro', 'Negativo', 'Positivo', 'Neutro', 'Negativo', 'Neutro',\n",
       "       'Neutro', 'Negativo', 'Negativo', 'Negativo', 'Negativo',\n",
       "       'Negativo', 'Negativo', 'Negativo', 'Negativo', 'Negativo',\n",
       "       'Neutro', 'Negativo', 'Positivo', 'Negativo', 'Negativo',\n",
       "       'Positivo', 'Negativo', 'Negativo', 'Neutro', 'Positivo',\n",
       "       'Negativo', 'Neutro', 'Positivo', 'Negativo', 'Negativo',\n",
       "       'Negativo', 'Negativo', 'Neutro', 'Negativo', 'Negativo',\n",
       "       'Negativo', 'Positivo', 'Negativo', 'Negativo', 'Neutro',\n",
       "       'Negativo', 'Negativo', 'Negativo', 'Negativo', 'Negativo',\n",
       "       'Negativo', 'Negativo', 'Neutro', 'Negativo', 'Neutro', 'Neutro',\n",
       "       'Negativo', 'Negativo', 'Negativo', 'Negativo', 'Neutro',\n",
       "       'Negativo', 'Neutro', 'Negativo', 'Negativo', 'Positivo',\n",
       "       'Negativo', 'Negativo', 'Negativo', 'Neutro', 'Negativo',\n",
       "       'Negativo', 'Positivo', 'Negativo', 'Negativo', 'Negativo',\n",
       "       'Negativo', 'Positivo', 'Neutro', 'Negativo', 'Negativo',\n",
       "       'Negativo', 'Positivo', 'Negativo', 'Negativo', 'Negativo',\n",
       "       'Negativo', 'Negativo', 'Negativo', 'Negativo', 'Negativo',\n",
       "       'Negativo', 'Positivo', 'Negativo'], dtype='<U8')"
      ]
     },
     "execution_count": 47,
     "metadata": {},
     "output_type": "execute_result"
    }
   ],
   "source": [
    "classificacao_segundo_turno"
   ]
  },
  {
   "cell_type": "code",
   "execution_count": 51,
   "metadata": {},
   "outputs": [],
   "source": [
    "tweets_original['classificacao'] = classificacao_primeiro_turno"
   ]
  },
  {
   "cell_type": "code",
   "execution_count": 52,
   "metadata": {},
   "outputs": [
    {
     "data": {
      "text/html": [
       "<div>\n",
       "<style scoped>\n",
       "    .dataframe tbody tr th:only-of-type {\n",
       "        vertical-align: middle;\n",
       "    }\n",
       "\n",
       "    .dataframe tbody tr th {\n",
       "        vertical-align: top;\n",
       "    }\n",
       "\n",
       "    .dataframe thead th {\n",
       "        text-align: right;\n",
       "    }\n",
       "</style>\n",
       "<table border=\"1\" class=\"dataframe\">\n",
       "  <thead>\n",
       "    <tr style=\"text-align: right;\">\n",
       "      <th></th>\n",
       "      <th>tweet</th>\n",
       "      <th>palavra_chave</th>\n",
       "      <th>classificacao</th>\n",
       "    </tr>\n",
       "  </thead>\n",
       "  <tbody>\n",
       "    <tr>\n",
       "      <th>0</th>\n",
       "      <td>O PT apoia frentes em varios estados no segund...</td>\n",
       "      <td>Marília Arraes</td>\n",
       "      <td>Positivo</td>\n",
       "    </tr>\n",
       "    <tr>\n",
       "      <th>1</th>\n",
       "      <td>O PT apoia frentes em varios estados no segund...</td>\n",
       "      <td>Marília Arraes</td>\n",
       "      <td>Positivo</td>\n",
       "    </tr>\n",
       "    <tr>\n",
       "      <th>2</th>\n",
       "      <td>Vamos Marilia arraes  estamos juntos de voce e...</td>\n",
       "      <td>Marília Arraes</td>\n",
       "      <td>Positivo</td>\n",
       "    </tr>\n",
       "    <tr>\n",
       "      <th>3</th>\n",
       "      <td>Em audio, deputado diz que Marilia Arraes suge...</td>\n",
       "      <td>Marília Arraes</td>\n",
       "      <td>Positivo</td>\n",
       "    </tr>\n",
       "    <tr>\n",
       "      <th>4</th>\n",
       "      <td>Os companheiros e companheiras do PCdoB ficara...</td>\n",
       "      <td>Marília Arraes</td>\n",
       "      <td>Negativo</td>\n",
       "    </tr>\n",
       "    <tr>\n",
       "      <th>...</th>\n",
       "      <td>...</td>\n",
       "      <td>...</td>\n",
       "      <td>...</td>\n",
       "    </tr>\n",
       "    <tr>\n",
       "      <th>995</th>\n",
       "      <td>interessante joao campos e o PSB investindo pe...</td>\n",
       "      <td>João Campos</td>\n",
       "      <td>Negativo</td>\n",
       "    </tr>\n",
       "    <tr>\n",
       "      <th>996</th>\n",
       "      <td>O TSE nao vai fazer NADA contra Crivella e Joa...</td>\n",
       "      <td>João Campos</td>\n",
       "      <td>Negativo</td>\n",
       "    </tr>\n",
       "    <tr>\n",
       "      <th>997</th>\n",
       "      <td>O TSE nao vai fazer NADA contra Crivella e Joa...</td>\n",
       "      <td>João Campos</td>\n",
       "      <td>Negativo</td>\n",
       "    </tr>\n",
       "    <tr>\n",
       "      <th>998</th>\n",
       "      <td>A curta carreira de Joao Campos. Comecou com i...</td>\n",
       "      <td>João Campos</td>\n",
       "      <td>Positivo</td>\n",
       "    </tr>\n",
       "    <tr>\n",
       "      <th>999</th>\n",
       "      <td>@lucas_lisboa @DCM_online Inclusive outra cois...</td>\n",
       "      <td>João Campos</td>\n",
       "      <td>Negativo</td>\n",
       "    </tr>\n",
       "  </tbody>\n",
       "</table>\n",
       "<p>1000 rows × 3 columns</p>\n",
       "</div>"
      ],
      "text/plain": [
       "                                                 tweet   palavra_chave  \\\n",
       "0    O PT apoia frentes em varios estados no segund...  Marília Arraes   \n",
       "1    O PT apoia frentes em varios estados no segund...  Marília Arraes   \n",
       "2    Vamos Marilia arraes  estamos juntos de voce e...  Marília Arraes   \n",
       "3    Em audio, deputado diz que Marilia Arraes suge...  Marília Arraes   \n",
       "4    Os companheiros e companheiras do PCdoB ficara...  Marília Arraes   \n",
       "..                                                 ...             ...   \n",
       "995  interessante joao campos e o PSB investindo pe...     João Campos   \n",
       "996  O TSE nao vai fazer NADA contra Crivella e Joa...     João Campos   \n",
       "997  O TSE nao vai fazer NADA contra Crivella e Joa...     João Campos   \n",
       "998  A curta carreira de Joao Campos. Comecou com i...     João Campos   \n",
       "999  @lucas_lisboa @DCM_online Inclusive outra cois...     João Campos   \n",
       "\n",
       "    classificacao  \n",
       "0        Positivo  \n",
       "1        Positivo  \n",
       "2        Positivo  \n",
       "3        Positivo  \n",
       "4        Negativo  \n",
       "..            ...  \n",
       "995      Negativo  \n",
       "996      Negativo  \n",
       "997      Negativo  \n",
       "998      Positivo  \n",
       "999      Negativo  \n",
       "\n",
       "[1000 rows x 3 columns]"
      ]
     },
     "execution_count": 52,
     "metadata": {},
     "output_type": "execute_result"
    }
   ],
   "source": [
    "tweets_original"
   ]
  },
  {
   "cell_type": "code",
   "execution_count": 59,
   "metadata": {},
   "outputs": [],
   "source": [
    "tweets_original.to_csv('./data/df_segundo_turno_final_tweets_original')"
   ]
  },
  {
   "cell_type": "code",
   "execution_count": 55,
   "metadata": {},
   "outputs": [],
   "source": [
    "df_segundo_turno['classificacao'] = classificacao_primeiro_turno"
   ]
  },
  {
   "cell_type": "code",
   "execution_count": 56,
   "metadata": {},
   "outputs": [
    {
     "data": {
      "text/html": [
       "<div>\n",
       "<style scoped>\n",
       "    .dataframe tbody tr th:only-of-type {\n",
       "        vertical-align: middle;\n",
       "    }\n",
       "\n",
       "    .dataframe tbody tr th {\n",
       "        vertical-align: top;\n",
       "    }\n",
       "\n",
       "    .dataframe thead th {\n",
       "        text-align: right;\n",
       "    }\n",
       "</style>\n",
       "<table border=\"1\" class=\"dataframe\">\n",
       "  <thead>\n",
       "    <tr style=\"text-align: right;\">\n",
       "      <th></th>\n",
       "      <th>palavra_chave</th>\n",
       "      <th>tweet</th>\n",
       "      <th>classificacao</th>\n",
       "    </tr>\n",
       "  </thead>\n",
       "  <tbody>\n",
       "    <tr>\n",
       "      <th>0</th>\n",
       "      <td>Marília Arraes</td>\n",
       "      <td>pt apoia frentes varios estados segundo turno,...</td>\n",
       "      <td>Positivo</td>\n",
       "    </tr>\n",
       "    <tr>\n",
       "      <th>1</th>\n",
       "      <td>Marília Arraes</td>\n",
       "      <td>pt apoia frentes varios estados segundo turno,...</td>\n",
       "      <td>Positivo</td>\n",
       "    </tr>\n",
       "    <tr>\n",
       "      <th>2</th>\n",
       "      <td>Marília Arraes</td>\n",
       "      <td>vamos marilia arraes juntos voce voce ! muita ...</td>\n",
       "      <td>Positivo</td>\n",
       "    </tr>\n",
       "    <tr>\n",
       "      <th>3</th>\n",
       "      <td>Marília Arraes</td>\n",
       "      <td>audio, deputado diz marilia arraes sugeriu fiz...</td>\n",
       "      <td>Positivo</td>\n",
       "    </tr>\n",
       "    <tr>\n",
       "      <th>4</th>\n",
       "      <td>Marília Arraes</td>\n",
       "      <td>companheiros companheiras pcdob ficarao quieto...</td>\n",
       "      <td>Negativo</td>\n",
       "    </tr>\n",
       "    <tr>\n",
       "      <th>...</th>\n",
       "      <td>...</td>\n",
       "      <td>...</td>\n",
       "      <td>...</td>\n",
       "    </tr>\n",
       "    <tr>\n",
       "      <th>995</th>\n",
       "      <td>João Campos</td>\n",
       "      <td>interessante joao campos psb investindo pesado...</td>\n",
       "      <td>Negativo</td>\n",
       "    </tr>\n",
       "    <tr>\n",
       "      <th>996</th>\n",
       "      <td>João Campos</td>\n",
       "      <td>tse nao vai fazer nada contra crivella joao ca...</td>\n",
       "      <td>Negativo</td>\n",
       "    </tr>\n",
       "    <tr>\n",
       "      <th>997</th>\n",
       "      <td>João Campos</td>\n",
       "      <td>tse nao vai fazer nada contra crivella joao ca...</td>\n",
       "      <td>Negativo</td>\n",
       "    </tr>\n",
       "    <tr>\n",
       "      <th>998</th>\n",
       "      <td>João Campos</td>\n",
       "      <td>curta carreira joao campos. comecou ideias cla...</td>\n",
       "      <td>Positivo</td>\n",
       "    </tr>\n",
       "    <tr>\n",
       "      <th>999</th>\n",
       "      <td>João Campos</td>\n",
       "      <td>_lisboa _online inclusive outra coisa, amigo. ...</td>\n",
       "      <td>Negativo</td>\n",
       "    </tr>\n",
       "  </tbody>\n",
       "</table>\n",
       "<p>1000 rows × 3 columns</p>\n",
       "</div>"
      ],
      "text/plain": [
       "      palavra_chave                                              tweet  \\\n",
       "0    Marília Arraes  pt apoia frentes varios estados segundo turno,...   \n",
       "1    Marília Arraes  pt apoia frentes varios estados segundo turno,...   \n",
       "2    Marília Arraes  vamos marilia arraes juntos voce voce ! muita ...   \n",
       "3    Marília Arraes  audio, deputado diz marilia arraes sugeriu fiz...   \n",
       "4    Marília Arraes  companheiros companheiras pcdob ficarao quieto...   \n",
       "..              ...                                                ...   \n",
       "995     João Campos  interessante joao campos psb investindo pesado...   \n",
       "996     João Campos  tse nao vai fazer nada contra crivella joao ca...   \n",
       "997     João Campos  tse nao vai fazer nada contra crivella joao ca...   \n",
       "998     João Campos  curta carreira joao campos. comecou ideias cla...   \n",
       "999     João Campos  _lisboa _online inclusive outra coisa, amigo. ...   \n",
       "\n",
       "    classificacao  \n",
       "0        Positivo  \n",
       "1        Positivo  \n",
       "2        Positivo  \n",
       "3        Positivo  \n",
       "4        Negativo  \n",
       "..            ...  \n",
       "995      Negativo  \n",
       "996      Negativo  \n",
       "997      Negativo  \n",
       "998      Positivo  \n",
       "999      Negativo  \n",
       "\n",
       "[1000 rows x 3 columns]"
      ]
     },
     "execution_count": 56,
     "metadata": {},
     "output_type": "execute_result"
    }
   ],
   "source": [
    "df_segundo_turno"
   ]
  },
  {
   "cell_type": "code",
   "execution_count": 57,
   "metadata": {},
   "outputs": [],
   "source": [
    "df_segundo_turno.to_csv('./data/df_segundo_turno_final_sem_stopwords')          "
   ]
  },
  {
   "cell_type": "code",
   "execution_count": 58,
   "metadata": {},
   "outputs": [
    {
     "name": "stdout",
     "output_type": "stream",
     "text": [
      "Moda: Negativo\n",
      "Positivos: 20.00 %\n",
      "Neutros: 35.56 %\n",
      "Negativos: 44.44 %\n"
     ]
    }
   ],
   "source": [
    "from estatisticas import porcent, moda\n",
    "moda(predict) #Just to test with predict, adjust to use with each candidate\n",
    "porcent(predict, \"Positivo\") \n",
    "porcent(predict, \"Neutro\") \n",
    "porcent(predict, \"Negativo\") "
   ]
  },
  {
   "cell_type": "code",
   "execution_count": null,
   "metadata": {},
   "outputs": [],
   "source": []
  }
 ],
 "metadata": {
  "kernelspec": {
   "display_name": "Python 3",
   "language": "python",
   "name": "python3"
  },
  "language_info": {
   "codemirror_mode": {
    "name": "ipython",
    "version": 3
   },
   "file_extension": ".py",
   "mimetype": "text/x-python",
   "name": "python",
   "nbconvert_exporter": "python",
   "pygments_lexer": "ipython3",
   "version": "3.8.6"
  }
 },
 "nbformat": 4,
 "nbformat_minor": 4
}
